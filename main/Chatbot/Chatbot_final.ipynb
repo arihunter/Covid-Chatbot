{
 "cells": [
  {
   "cell_type": "code",
   "execution_count": 3,
   "metadata": {},
   "outputs": [
    {
     "name": "stderr",
     "output_type": "stream",
     "text": [
      "Using TensorFlow backend.\n"
     ]
    }
   ],
   "source": [
    "\n",
    "import json\n",
    "import pickle\n",
    "import tensorflow\n",
    "import keras\n",
    "import random\n",
    "from keras.preprocessing.sequence import pad_sequences\n",
    "from keras.preprocessing.text import Tokenizer\n",
    "from keras.models import Sequential\n",
    "from keras.layers import Dense,Embedding,LSTM,Dropout\n",
    "from keras.layers.embeddings import Embedding\n",
    "import numpy as np\n",
    "import pandas as pd\n",
    "from tkinter import *\n"
   ]
  },
  {
   "cell_type": "code",
   "execution_count": 11,
   "metadata": {},
   "outputs": [],
   "source": [
    "classes = []\n",
    "data_file = open('chatbot_intent.json',encoding=\"utf-8\").read()\n",
    "intents = json.loads(data_file,strict = False)"
   ]
  },
  {
   "cell_type": "code",
   "execution_count": 5,
   "metadata": {
    "scrolled": true
   },
   "outputs": [
    {
     "name": "stderr",
     "output_type": "stream",
     "text": [
      "C:\\Users\\dell\\Anaconda3\\lib\\site-packages\\sklearn\\ensemble\\forest.py:246: FutureWarning: The default value of n_estimators will change from 10 in version 0.20 to 100 in 0.22.\n",
      "  \"10 in version 0.20 to 100 in 0.22.\", FutureWarning)\n"
     ]
    },
    {
     "data": {
      "text/plain": [
       "RandomForestClassifier(bootstrap=True, class_weight=None, criterion='gini',\n",
       "            max_depth=None, max_features='auto', max_leaf_nodes=None,\n",
       "            min_impurity_decrease=0.0, min_impurity_split=None,\n",
       "            min_samples_leaf=1, min_samples_split=2,\n",
       "            min_weight_fraction_leaf=0.0, n_estimators=10, n_jobs=None,\n",
       "            oob_score=False, random_state=None, verbose=0,\n",
       "            warm_start=False)"
      ]
     },
     "execution_count": 5,
     "metadata": {},
     "output_type": "execute_result"
    }
   ],
   "source": [
    "data  = pd.read_csv(\"data_1.csv\")\n",
    "X = data.drop('infectionProb',axis = 1)\n",
    "Y = data['infectionProb']\n",
    "from sklearn.ensemble import RandomForestClassifier\n",
    "model_class = RandomForestClassifier()\n",
    "model_class.fit(X,Y)"
   ]
  },
  {
   "cell_type": "code",
   "execution_count": 12,
   "metadata": {},
   "outputs": [],
   "source": [
    "tokenizer_obj =Tokenizer()\n",
    "pattern_list = []\n",
    "pattern_list_2 = []\n",
    "for intent in intents['intents']:\n",
    "    for pattern in intent['patterns']:\n",
    "        pattern_list.append(pattern.lower())\n",
    "        pattern_list_2.append(intent['tag'])\n",
    "        if intent['tag'] not in classes:\n",
    "            classes.append(intent['tag'])"
   ]
  },
  {
   "cell_type": "code",
   "execution_count": 14,
   "metadata": {},
   "outputs": [],
   "source": [
    "tokenizer_obj = Tokenizer()\n",
    "tokenizer_obj.fit_on_texts(pattern_list)"
   ]
  },
  {
   "cell_type": "code",
   "execution_count": 13,
   "metadata": {},
   "outputs": [],
   "source": [
    "max_length = max([len(s.split()) for s in pattern_list])"
   ]
  },
  {
   "cell_type": "code",
   "execution_count": 15,
   "metadata": {},
   "outputs": [],
   "source": [
    "X_train = tokenizer_obj.texts_to_sequences(pattern_list)"
   ]
  },
  {
   "cell_type": "code",
   "execution_count": 16,
   "metadata": {},
   "outputs": [],
   "source": [
    "X_train_pad = pad_sequences(X_train,maxlen=max_length,padding='post')"
   ]
  },
  {
   "cell_type": "code",
   "execution_count": 17,
   "metadata": {},
   "outputs": [],
   "source": [
    "def one_hot_vector(expected):\n",
    "    res = [0] * len(classes)\n",
    "    for i,w in enumerate(classes):\n",
    "        if(w == expected):\n",
    "            res[i] = 1\n",
    "    return res    "
   ]
  },
  {
   "cell_type": "code",
   "execution_count": 18,
   "metadata": {},
   "outputs": [],
   "source": [
    "y = []\n",
    "for i in pattern_list_2:\n",
    "    y.append(one_hot_vector(i))"
   ]
  },
  {
   "cell_type": "code",
   "execution_count": 19,
   "metadata": {},
   "outputs": [],
   "source": [
    "y = np.array(y)\n",
    "X_train_pad = np.array(X_train_pad)"
   ]
  },
  {
   "cell_type": "code",
   "execution_count": 20,
   "metadata": {},
   "outputs": [],
   "source": [
    "vocab_size = len(tokenizer_obj.word_index) + 1\n",
    "Embedding_dim = 60"
   ]
  },
  {
   "cell_type": "code",
   "execution_count": 4,
   "metadata": {},
   "outputs": [
    {
     "name": "stderr",
     "output_type": "stream",
     "text": [
      "C:\\Users\\dell\\Anaconda3\\lib\\site-packages\\tensorflow_core\\python\\framework\\indexed_slices.py:433: UserWarning: Converting sparse IndexedSlices to a dense Tensor of unknown shape. This may consume a large amount of memory.\n",
      "  \"Converting sparse IndexedSlices to a dense Tensor of unknown shape. \"\n"
     ]
    }
   ],
   "source": [
    "from keras.models import load_model\n",
    "model = load_model('chatbot_model_final.h5')\n",
    "classes = pickle.load(open('classes.pkl','rb'))\n",
    "intents = json.loads(open('chatbot_intent.json',encoding=\"utf-8\").read(),strict=False)\n"
   ]
  },
  {
   "cell_type": "code",
   "execution_count": 6,
   "metadata": {},
   "outputs": [],
   "source": [
    "def clean_sentence(sentence,max_length,model):\n",
    "    a = []\n",
    "    a.append(sentence.lower())\n",
    "    a = tokenizer_obj.texts_to_sequences(a)\n",
    "    a = pad_sequences(a,maxlen=max_length,padding='post')\n",
    "    temp = a[0].reshape(-1,max_length)\n",
    "    res = model.predict_classes(temp)\n",
    "    return res\n",
    "\n",
    "def predict_all(sentence,max_length,model):\n",
    "    res = clean_sentence(sentence,max_length,model)\n",
    "    return res[0]      \n",
    "\n",
    "def getResponse(res,intents,classes):\n",
    "    for intent in intents['intents']:\n",
    "        if(intent['tag'] == classes[res]):\n",
    "            k = random.choice(intent['responses'],)\n",
    "    return k    \n",
    "\n",
    "\n",
    "def chatbot_response(msg,model,max_length,intents,classes):\n",
    "    ints = predict_all(msg,max_length,model)\n",
    "    res = getResponse(ints,intents,classes)\n",
    "    return res"
   ]
  },
  {
   "cell_type": "code",
   "execution_count": 8,
   "metadata": {},
   "outputs": [],
   "source": [
    "def send():\n",
    "    msg = EntryBox.get(\"1.0\",'end-1c').strip()\n",
    "    EntryBox.delete(\"0.0\",END)\n",
    "    \n",
    "    if msg != '':\n",
    "        ChatLog.config(state = NORMAL)\n",
    "        ChatLog.insert(END,\"You: \" + msg + '\\n\\n')\n",
    "        ChatLog.config(foreground = \"black\" , font = (\"Arial,12\"))\n",
    "        \n",
    "        res = chatbot_response(msg.lower(),model,max_length,intents,classes)\n",
    "        \n",
    "        ChatLog.insert(END,\"Bot: \" + res +'\\n\\n')\n",
    "        \n",
    "        ChatLog.config(state = DISABLED)\n",
    "        ChatLog.yview(END)    "
   ]
  },
  {
   "cell_type": "code",
   "execution_count": 7,
   "metadata": {},
   "outputs": [],
   "source": [
    "store = []\n",
    "\n",
    "def myclick():\n",
    "    top = Toplevel(base)\n",
    "    top.title(\"Symptom_checker\")\n",
    "    \n",
    "    temp_var = StringVar()\n",
    "    body_pain_var = StringVar()\n",
    "    age_var = StringVar()\n",
    "    nose_var = StringVar()\n",
    "    breath_var = StringVar()\n",
    "    \n",
    "    widget1 = Label(top,text = \"Enter your body temperature\")\n",
    "    e1 = Entry(top)\n",
    "    widget1.grid(row = 0,column = 0)\n",
    "    e1.grid(row = 0,column = 1)\n",
    "    \n",
    "    widget2 = Label(top,text = \"Do you have body pain (Enter 1 or 0)\")\n",
    "    e2 = Entry(top)\n",
    "    widget2.grid(row = 1,column = 0)\n",
    "    e2.grid(row = 1,column = 1)\n",
    "    \n",
    "    widget3 = Label(top,text = \"Enter your age (in digits)\")\n",
    "    e3 = Entry(top)\n",
    "    widget3.grid(row = 2,column = 0)\n",
    "    e3.grid(row = 2,column = 1)\n",
    "    \n",
    "    widget4 = Label(top,text = \"Do you have runnyNose (Enter 1 or 0)\")\n",
    "    e4 = Entry(top)\n",
    "    widget4.grid(row = 3,column = 0)\n",
    "    e4.grid(row = 3,column = 1)\n",
    "    \n",
    "    widget5 = Label(top,text = \"Do you have difficulty in breathing (Enter 1 or 0)\")\n",
    "    e5 = Entry(top)\n",
    "    widget5.grid(row = 4,column = 0)\n",
    "    e5.grid(row = 4,column = 1)\n",
    "    \n",
    "    widget6 = Label(top,text=\"*The results are experimental*\")\n",
    "    widget6.grid(row = 6,column = 1)\n",
    "    \n",
    "    def printresult():\n",
    "        \n",
    "        temp = np.array(store)\n",
    "        temp = temp.reshape(-1,5)\n",
    "        temp = pd.DataFrame(temp)\n",
    "        z = model_class.predict(temp)\n",
    "        if(z[0] == 1):\n",
    "            widget7 = Label(top,text = \"You have a high probabilty of corona infection\")\n",
    "            widget7.grid(row = 7,column = 1)\n",
    "        \n",
    "        if(z[0] == 0):\n",
    "            widget7 = Label(top,text = \"You have a low probabilty of corona infection\")\n",
    "            widget7.grid(row = 7,column = 1)\n",
    "            \n",
    "        store.clear()    \n",
    "    \n",
    "    def calculate():\n",
    "        \n",
    "        temp_var = e1.get()\n",
    "        body_pain_var = e2.get()\n",
    "        age_var = e3.get()\n",
    "        nose_var = e4.get()\n",
    "        breath_var = e5.get()\n",
    "        \n",
    "        \n",
    "        store.append(float(temp_var))\n",
    "        store.append(int(body_pain_var,10))\n",
    "        store.append(int(age_var,10))\n",
    "        store.append(int(nose_var,10))\n",
    "        store.append(int(breath_var,10))\n",
    "        \n",
    "        \n",
    "    \n",
    "        e1.delete(0,END)\n",
    "        e2.delete(0,END)\n",
    "        e3.delete(0,END)\n",
    "        e4.delete(0,END)\n",
    "        e5.delete(0,END)\n",
    "        \n",
    "        printresult()\n",
    "        \n",
    "        \n",
    "    \n",
    "    submit_button = Button(top,text=\"Submit and check\",command = calculate)\n",
    "    submit_button.grid(row=5,column = 1)    "
   ]
  },
  {
   "cell_type": "code",
   "execution_count": 21,
   "metadata": {},
   "outputs": [],
   "source": [
    "base = Tk()\n",
    "base.title(\"Covid-Assistant\")\n",
    "base.geometry(\"400x500\")\n",
    "base.resizable(width = FALSE,height=FALSE)\n",
    "\n",
    "ChatLog = Text(base,bd = 0,bg=\"#EBE3FE\",height=\"8\",width=\"150\",font=\"Arial\")\n",
    "scrollbar = Scrollbar(base,command = ChatLog.yview,cursor=\"heart\")\n",
    "ChatLog['yscrollcommand'] = scrollbar.set\n",
    "\n",
    "SendButton = Button(base,font = (\"Veradana\",15,'bold'),text=\"Send\",width =\"10\",height=\"5\",bd=0,bg=\"#2A789C\",activebackground=\"#3c9d9b\",fg='#ffffff',\n",
    "                    command= send)\n",
    "\n",
    "EntryBox = Text(base,bd=0,bg=\"#D5FCD3\",width=\"29\", height=\"5\", font=\"Arial\")\n",
    "myButton = Button(base,text=\"Symptom Checker\",command = myclick,font = \"bold\")\n",
    "\n",
    "\n",
    "\n",
    "scrollbar.place(x=376,y=6, height=386)\n",
    "ChatLog.place(x=6,y=6, height=386, width=370)\n",
    "EntryBox.place(x=128, y=401, height=90, width=265)\n",
    "SendButton.place(x=6, y=401, height=90)\n",
    "myButton.place(x = 235,y=360)\n",
    "\n",
    "\n",
    "base.mainloop()\n",
    "\n"
   ]
  },
  {
   "cell_type": "code",
   "execution_count": null,
   "metadata": {},
   "outputs": [],
   "source": [
    "##Implemet till here for only if you want to use chatbot after this is the architecture of the network used"
   ]
  },
  {
   "cell_type": "code",
   "execution_count": null,
   "metadata": {},
   "outputs": [],
   "source": []
  },
  {
   "cell_type": "code",
   "execution_count": null,
   "metadata": {},
   "outputs": [],
   "source": []
  },
  {
   "cell_type": "code",
   "execution_count": null,
   "metadata": {},
   "outputs": [],
   "source": []
  },
  {
   "cell_type": "code",
   "execution_count": null,
   "metadata": {},
   "outputs": [],
   "source": []
  },
  {
   "cell_type": "code",
   "execution_count": null,
   "metadata": {},
   "outputs": [],
   "source": []
  },
  {
   "cell_type": "code",
   "execution_count": 58,
   "metadata": {},
   "outputs": [],
   "source": [
    "model = Sequential()\n",
    "model.add(Embedding(vocab_size,Embedding_dim,input_length=max_length))\n",
    "model.add(LSTM(units = 128,return_sequences=True))\n",
    "model.add(Dropout(0.5))\n",
    "model.add(LSTM(units = 128))\n",
    "model.add(Dropout(0.5))\n",
    "model.add(Dense(len(classes),activation='softmax'))"
   ]
  },
  {
   "cell_type": "code",
   "execution_count": 59,
   "metadata": {},
   "outputs": [],
   "source": [
    "model.compile(loss='binary_crossentropy',optimizer='adam',metrics=['accuracy'])"
   ]
  },
  {
   "cell_type": "code",
   "execution_count": 60,
   "metadata": {},
   "outputs": [
    {
     "name": "stderr",
     "output_type": "stream",
     "text": [
      "C:\\Users\\dell\\Anaconda3\\lib\\site-packages\\tensorflow_core\\python\\framework\\indexed_slices.py:433: UserWarning: Converting sparse IndexedSlices to a dense Tensor of unknown shape. This may consume a large amount of memory.\n",
      "  \"Converting sparse IndexedSlices to a dense Tensor of unknown shape. \"\n"
     ]
    },
    {
     "name": "stdout",
     "output_type": "stream",
     "text": [
      "Epoch 1/100\n",
      " - 1s - loss: 0.1426 - accuracy: 0.9677\n",
      "Epoch 2/100\n",
      " - 0s - loss: 0.1417 - accuracy: 0.9677\n",
      "Epoch 3/100\n",
      " - 0s - loss: 0.1409 - accuracy: 0.9677\n",
      "Epoch 4/100\n",
      " - 0s - loss: 0.1391 - accuracy: 0.9677\n",
      "Epoch 5/100\n",
      " - 0s - loss: 0.1366 - accuracy: 0.9677\n",
      "Epoch 6/100\n",
      " - 0s - loss: 0.1318 - accuracy: 0.9677\n",
      "Epoch 7/100\n",
      " - 0s - loss: 0.1273 - accuracy: 0.9680\n",
      "Epoch 8/100\n",
      " - 0s - loss: 0.1257 - accuracy: 0.9677\n",
      "Epoch 9/100\n",
      " - 0s - loss: 0.1230 - accuracy: 0.9680\n",
      "Epoch 10/100\n",
      " - 0s - loss: 0.1200 - accuracy: 0.9675\n",
      "Epoch 11/100\n",
      " - 0s - loss: 0.1178 - accuracy: 0.9691\n",
      "Epoch 12/100\n",
      " - 0s - loss: 0.1154 - accuracy: 0.9687\n",
      "Epoch 13/100\n",
      " - 0s - loss: 0.1100 - accuracy: 0.9694\n",
      "Epoch 14/100\n",
      " - 0s - loss: 0.1086 - accuracy: 0.9694\n",
      "Epoch 15/100\n",
      " - 0s - loss: 0.1054 - accuracy: 0.9698\n",
      "Epoch 16/100\n",
      " - 0s - loss: 0.1100 - accuracy: 0.9698\n",
      "Epoch 17/100\n",
      " - 0s - loss: 0.1026 - accuracy: 0.9703\n",
      "Epoch 18/100\n",
      " - 0s - loss: 0.0992 - accuracy: 0.9696\n",
      "Epoch 19/100\n",
      " - 0s - loss: 0.0972 - accuracy: 0.9696\n",
      "Epoch 20/100\n",
      " - 0s - loss: 0.0911 - accuracy: 0.9705\n",
      "Epoch 21/100\n",
      " - 0s - loss: 0.0832 - accuracy: 0.9717\n",
      "Epoch 22/100\n",
      " - 0s - loss: 0.0947 - accuracy: 0.9677\n",
      "Epoch 23/100\n",
      " - 0s - loss: 0.0859 - accuracy: 0.9701\n",
      "Epoch 24/100\n",
      " - 0s - loss: 0.0819 - accuracy: 0.9710\n",
      "Epoch 25/100\n",
      " - 0s - loss: 0.0823 - accuracy: 0.9705\n",
      "Epoch 26/100\n",
      " - 0s - loss: 0.0731 - accuracy: 0.9731\n",
      "Epoch 27/100\n",
      " - 0s - loss: 0.0686 - accuracy: 0.9749\n",
      "Epoch 28/100\n",
      " - 0s - loss: 0.0668 - accuracy: 0.9763\n",
      "Epoch 29/100\n",
      " - 0s - loss: 0.0587 - accuracy: 0.9773\n",
      "Epoch 30/100\n",
      " - 0s - loss: 0.0575 - accuracy: 0.9796\n",
      "Epoch 31/100\n",
      " - 0s - loss: 0.0542 - accuracy: 0.9791\n",
      "Epoch 32/100\n",
      " - 0s - loss: 0.0488 - accuracy: 0.9814\n",
      "Epoch 33/100\n",
      " - 0s - loss: 0.0614 - accuracy: 0.9759\n",
      "Epoch 34/100\n",
      " - 0s - loss: 0.0757 - accuracy: 0.9726\n",
      "Epoch 35/100\n",
      " - 0s - loss: 0.0586 - accuracy: 0.9763\n",
      "Epoch 36/100\n",
      " - 0s - loss: 0.0520 - accuracy: 0.9789\n",
      "Epoch 37/100\n",
      " - 0s - loss: 0.0541 - accuracy: 0.9793\n",
      "Epoch 38/100\n",
      " - 0s - loss: 0.0388 - accuracy: 0.9856\n",
      "Epoch 39/100\n",
      " - 0s - loss: 0.0315 - accuracy: 0.9891\n",
      "Epoch 40/100\n",
      " - 0s - loss: 0.0283 - accuracy: 0.9896\n",
      "Epoch 41/100\n",
      " - 0s - loss: 0.0251 - accuracy: 0.9926\n",
      "Epoch 42/100\n",
      " - 0s - loss: 0.0285 - accuracy: 0.9909\n",
      "Epoch 43/100\n",
      " - 0s - loss: 0.0242 - accuracy: 0.9933\n",
      "Epoch 44/100\n",
      " - 0s - loss: 0.0236 - accuracy: 0.9923\n",
      "Epoch 45/100\n",
      " - 0s - loss: 0.0190 - accuracy: 0.9940\n",
      "Epoch 46/100\n",
      " - 0s - loss: 0.0224 - accuracy: 0.9916\n",
      "Epoch 47/100\n",
      " - 0s - loss: 0.0187 - accuracy: 0.9937\n",
      "Epoch 48/100\n",
      " - 0s - loss: 0.0180 - accuracy: 0.9942\n",
      "Epoch 49/100\n",
      " - 0s - loss: 0.0180 - accuracy: 0.9930\n",
      "Epoch 50/100\n",
      " - 0s - loss: 0.0210 - accuracy: 0.9928\n",
      "Epoch 51/100\n",
      " - 0s - loss: 0.0178 - accuracy: 0.9940\n",
      "Epoch 52/100\n",
      " - 0s - loss: 0.0166 - accuracy: 0.9942\n",
      "Epoch 53/100\n",
      " - 0s - loss: 0.0189 - accuracy: 0.9935\n",
      "Epoch 54/100\n",
      " - 0s - loss: 0.0217 - accuracy: 0.9919\n",
      "Epoch 55/100\n",
      " - 0s - loss: 0.0229 - accuracy: 0.9916\n",
      "Epoch 56/100\n",
      " - 0s - loss: 0.0162 - accuracy: 0.9949\n",
      "Epoch 57/100\n",
      " - 0s - loss: 0.0167 - accuracy: 0.9942\n",
      "Epoch 58/100\n",
      " - 0s - loss: 0.0143 - accuracy: 0.9958\n",
      "Epoch 59/100\n",
      " - 0s - loss: 0.0108 - accuracy: 0.9970\n",
      "Epoch 60/100\n",
      " - 0s - loss: 0.0082 - accuracy: 0.9977\n",
      "Epoch 61/100\n",
      " - 0s - loss: 0.0099 - accuracy: 0.9965\n",
      "Epoch 62/100\n",
      " - 0s - loss: 0.0106 - accuracy: 0.9970\n",
      "Epoch 63/100\n",
      " - 0s - loss: 0.0098 - accuracy: 0.9970\n",
      "Epoch 64/100\n",
      " - 0s - loss: 0.0087 - accuracy: 0.9968\n",
      "Epoch 65/100\n",
      " - 0s - loss: 0.0081 - accuracy: 0.9977\n",
      "Epoch 66/100\n",
      " - 0s - loss: 0.0090 - accuracy: 0.9970\n",
      "Epoch 67/100\n",
      " - 0s - loss: 0.0065 - accuracy: 0.9991\n",
      "Epoch 68/100\n",
      " - 0s - loss: 0.0090 - accuracy: 0.9965\n",
      "Epoch 69/100\n",
      " - 0s - loss: 0.0093 - accuracy: 0.9979\n",
      "Epoch 70/100\n",
      " - 0s - loss: 0.0105 - accuracy: 0.9968\n",
      "Epoch 71/100\n",
      " - 0s - loss: 0.0245 - accuracy: 0.9935\n",
      "Epoch 72/100\n",
      " - 0s - loss: 0.0223 - accuracy: 0.9933\n",
      "Epoch 73/100\n",
      " - 0s - loss: 0.0135 - accuracy: 0.9958\n",
      "Epoch 74/100\n",
      " - 0s - loss: 0.0159 - accuracy: 0.9949\n",
      "Epoch 75/100\n",
      " - 0s - loss: 0.0119 - accuracy: 0.9974\n",
      "Epoch 76/100\n",
      " - 0s - loss: 0.0107 - accuracy: 0.9968\n",
      "Epoch 77/100\n",
      " - 0s - loss: 0.0209 - accuracy: 0.9944\n",
      "Epoch 78/100\n",
      " - 0s - loss: 0.0158 - accuracy: 0.9951\n",
      "Epoch 79/100\n",
      " - 0s - loss: 0.0155 - accuracy: 0.9958\n",
      "Epoch 80/100\n",
      " - 0s - loss: 0.0139 - accuracy: 0.9956\n",
      "Epoch 81/100\n",
      " - 0s - loss: 0.0444 - accuracy: 0.9879\n",
      "Epoch 82/100\n",
      " - 0s - loss: 0.0288 - accuracy: 0.9891\n",
      "Epoch 83/100\n",
      " - 0s - loss: 0.0231 - accuracy: 0.9907\n",
      "Epoch 84/100\n",
      " - 0s - loss: 0.0240 - accuracy: 0.9903\n",
      "Epoch 85/100\n",
      " - 0s - loss: 0.0199 - accuracy: 0.9926\n",
      "Epoch 86/100\n",
      " - 0s - loss: 0.0158 - accuracy: 0.9937\n",
      "Epoch 87/100\n",
      " - 0s - loss: 0.0120 - accuracy: 0.9961\n",
      "Epoch 88/100\n",
      " - 0s - loss: 0.0089 - accuracy: 0.9979\n",
      "Epoch 89/100\n",
      " - 0s - loss: 0.0110 - accuracy: 0.9968\n",
      "Epoch 90/100\n",
      " - 0s - loss: 0.0088 - accuracy: 0.9984\n",
      "Epoch 91/100\n",
      " - 0s - loss: 0.0085 - accuracy: 0.9970\n",
      "Epoch 92/100\n",
      " - 0s - loss: 0.0049 - accuracy: 0.9988\n",
      "Epoch 93/100\n",
      " - 0s - loss: 0.0055 - accuracy: 0.9988\n",
      "Epoch 94/100\n",
      " - 0s - loss: 0.0027 - accuracy: 0.9998\n",
      "Epoch 95/100\n",
      " - 0s - loss: 0.0041 - accuracy: 0.9991\n",
      "Epoch 96/100\n",
      " - 0s - loss: 0.0033 - accuracy: 0.9998\n",
      "Epoch 97/100\n",
      " - 0s - loss: 0.0037 - accuracy: 0.9995\n",
      "Epoch 98/100\n",
      " - 0s - loss: 0.0040 - accuracy: 0.9995\n",
      "Epoch 99/100\n",
      " - 0s - loss: 0.0034 - accuracy: 0.9993\n",
      "Epoch 100/100\n",
      " - 0s - loss: 0.0043 - accuracy: 0.9984\n"
     ]
    }
   ],
   "source": [
    "hist = model.fit(X_train_pad,y,batch_size = 10,epochs = 100,verbose=2)"
   ]
  },
  {
   "cell_type": "code",
   "execution_count": 61,
   "metadata": {},
   "outputs": [],
   "source": [
    "model.save('chatbot_model_final.h5',hist)"
   ]
  },
  {
   "cell_type": "code",
   "execution_count": 62,
   "metadata": {},
   "outputs": [],
   "source": [
    "classes = pickle.dump(classes,open('classes.pkl','wb'))\n",
    "X_train = pickle.dump(pattern_list,open('pattern_list.pkl','wb'))\n",
    "y_train = pickle.dump(y,open('y.pkl','wb'))"
   ]
  },
  {
   "cell_type": "code",
   "execution_count": 64,
   "metadata": {},
   "outputs": [],
   "source": [
    "from tkinter import *\n"
   ]
  },
  {
   "cell_type": "code",
   "execution_count": null,
   "metadata": {},
   "outputs": [],
   "source": []
  }
 ],
 "metadata": {
  "kernelspec": {
   "display_name": "Python 3",
   "language": "python",
   "name": "python3"
  },
  "language_info": {
   "codemirror_mode": {
    "name": "ipython",
    "version": 3
   },
   "file_extension": ".py",
   "mimetype": "text/x-python",
   "name": "python",
   "nbconvert_exporter": "python",
   "pygments_lexer": "ipython3",
   "version": "3.7.3"
  }
 },
 "nbformat": 4,
 "nbformat_minor": 2
}
